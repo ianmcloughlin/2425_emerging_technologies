{
 "cells": [
  {
   "cell_type": "markdown",
   "metadata": {},
   "source": [
    "# Approximations to English"
   ]
  },
  {
   "cell_type": "markdown",
   "metadata": {},
   "source": [
    "See section 3 of [A Mathematical Theory of Communication by Claude E. Shannon](https://people.math.harvard.edu/~ctm/home/text/others/shannon/entropy/entropy.pdf).\n"
   ]
  },
  {
   "cell_type": "code",
   "execution_count": 1,
   "metadata": {},
   "outputs": [],
   "source": [
    "# Imports.\n",
    "\n",
    "# Selecting random items from lists.\n",
    "import random\n",
    "\n",
    "# Efficient data structures.\n",
    "import collections"
   ]
  },
  {
   "cell_type": "markdown",
   "metadata": {},
   "source": [
    "## Zero Order Letter Approximation"
   ]
  },
  {
   "cell_type": "markdown",
   "metadata": {},
   "source": [
    "Create strings by selecting random characters from a list of characters.\n",
    "\n",
    "\n",
    "### random\n",
    "https://docs.python.org/3/library/random.html\n",
    "> This module implements pseudo-random number generators for various distributions.\n"
   ]
  },
  {
   "cell_type": "markdown",
   "metadata": {},
   "source": [
    "### random.choice\n",
    "\n",
    "https://docs.python.org/3/library/random.html#random.choice\n",
    "\n",
    "Select a random element from a list.  \n",
    "By random, we mean all elements have equal chance of selection."
   ]
  },
  {
   "cell_type": "code",
   "execution_count": 2,
   "metadata": {},
   "outputs": [
    {
     "data": {
      "text/plain": [
       "3"
      ]
     },
     "execution_count": 2,
     "metadata": {},
     "output_type": "execute_result"
    }
   ],
   "source": [
    "# Example: select a random element of a list.\n",
    "random.choice([1, 2, 3, 4, 5])"
   ]
  },
  {
   "cell_type": "code",
   "execution_count": 3,
   "metadata": {},
   "outputs": [
    {
     "data": {
      "text/plain": [
       "'k'"
      ]
     },
     "execution_count": 3,
     "metadata": {},
     "output_type": "execute_result"
    }
   ],
   "source": [
    "# Select a random character.\n",
    "random.choice('abcdefghijklmnopqrstuvwxyz .')"
   ]
  },
  {
   "cell_type": "markdown",
   "metadata": {},
   "source": [
    "### random.choices\n",
    "\n",
    "https://docs.python.org/3/library/random.html#random.choices\n",
    "\n",
    "> Return a k sized list of elements chosen from the population with replacement.  \n",
    "> If a weights sequence is specified, selections are made according to the relative weights."
   ]
  },
  {
   "cell_type": "code",
   "execution_count": 4,
   "metadata": {},
   "outputs": [
    {
     "data": {
      "text/plain": [
       "'xsrnm bnu oeo akz.uy prfxuzygjoapc.ejkjegfv genhwxkatgkikfzkovnadgurdrcvnteuofmurdd.ckobfuwbwjkjyoxu'"
      ]
     },
     "execution_count": 4,
     "metadata": {},
     "output_type": "execute_result"
    }
   ],
   "source": [
    "# Select a sequence of characters using equal weights.\n",
    "''.join(random.choices('abcdefghijklmnopqrstuvwxyz .', k=100))"
   ]
  },
  {
   "cell_type": "markdown",
   "metadata": {},
   "source": [
    "## First Order Letter Approximation"
   ]
  },
  {
   "cell_type": "markdown",
   "metadata": {},
   "source": [
    "### Reading Text Files\n",
    "\n",
    "The following was adapted from a response from ChatGPT.  \n",
    "https://chatgpt.com/share/66ffdf0f-4094-800d-9ae9-63ffb9b20043"
   ]
  },
  {
   "cell_type": "code",
   "execution_count": 5,
   "metadata": {},
   "outputs": [
    {
     "name": "stdout",
     "output_type": "stream",
     "text": [
      "'t': 30379\n",
      "'h': 19763\n",
      "'e': 46094\n",
      "' ': 71747\n",
      "'p': 6134\n",
      "'r': 20876\n",
      "'o': 25254\n",
      "'j': 502\n",
      "'c': 9275\n",
      "'g': 5980\n",
      "'u': 10412\n",
      "'n': 24359\n",
      "'b': 5021\n",
      "'k': 1760\n",
      "'f': 8722\n",
      "'a': 26743\n",
      "'s': 21173\n",
      "'i': 24577\n",
      "'m': 10545\n",
      "'d': 16858\n",
      "'y': 7923\n",
      "'w': 7653\n",
      "'l': 12722\n",
      "'v': 3829\n",
      "'.': 3145\n",
      "'z': 213\n",
      "'x': 677\n",
      "'q': 324\n"
     ]
    }
   ],
   "source": [
    "with open('data/frankenstein.txt', 'r') as file:\n",
    "  # Read the whole file into a string.\n",
    "  english = file.read()\n",
    "\n",
    "# Change everything to lower case.\n",
    "english = english.lower()\n",
    "# The characters to keep.\n",
    "keep = 'abcdefghijklmnopqrstuvwxyz .'\n",
    "# Remove unwanted characters.\n",
    "cleaned = ''.join(c for c in english if c in keep)\n",
    "# Count the frequency of each character.\n",
    "counts = collections.Counter(cleaned)\n",
    "# Print the results\n",
    "for char, count in counts.items():\n",
    "  print(f\"'{char}': {count}\")\n"
   ]
  },
  {
   "cell_type": "code",
   "execution_count": 6,
   "metadata": {},
   "outputs": [
    {
     "name": "stdout",
     "output_type": "stream",
     "text": [
      "' ': 71747\n",
      "'e': 46094\n",
      "'t': 30379\n",
      "'a': 26743\n",
      "'o': 25254\n",
      "'i': 24577\n",
      "'n': 24359\n",
      "'s': 21173\n",
      "'r': 20876\n",
      "'h': 19763\n",
      "'d': 16858\n",
      "'l': 12722\n",
      "'m': 10545\n",
      "'u': 10412\n",
      "'c': 9275\n",
      "'f': 8722\n",
      "'y': 7923\n",
      "'w': 7653\n",
      "'p': 6134\n",
      "'g': 5980\n",
      "'b': 5021\n",
      "'v': 3829\n",
      "'.': 3145\n",
      "'k': 1760\n",
      "'x': 677\n",
      "'j': 502\n",
      "'q': 324\n",
      "'z': 213\n"
     ]
    }
   ],
   "source": [
    "L = [[l, c] for l, c in counts.items()]\n",
    "L.sort(key=lambda x: x[1], reverse=True)\n",
    "for l, c in L:\n",
    "  print(f\"'{l}': {c}\")"
   ]
  },
  {
   "cell_type": "markdown",
   "metadata": {},
   "source": [
    "## Dictionaries"
   ]
  },
  {
   "cell_type": "code",
   "execution_count": null,
   "metadata": {},
   "outputs": [],
   "source": []
  },
  {
   "cell_type": "markdown",
   "metadata": {},
   "source": [
    "## Second Order Letter Approximation"
   ]
  },
  {
   "cell_type": "code",
   "execution_count": null,
   "metadata": {},
   "outputs": [],
   "source": []
  },
  {
   "cell_type": "markdown",
   "metadata": {},
   "source": [
    "## First Order Word Approximation"
   ]
  },
  {
   "cell_type": "code",
   "execution_count": null,
   "metadata": {},
   "outputs": [],
   "source": []
  },
  {
   "cell_type": "markdown",
   "metadata": {},
   "source": [
    "## Second Order Word Approximation"
   ]
  },
  {
   "cell_type": "code",
   "execution_count": null,
   "metadata": {},
   "outputs": [],
   "source": []
  },
  {
   "cell_type": "markdown",
   "metadata": {},
   "source": [
    "## End"
   ]
  }
 ],
 "metadata": {
  "kernelspec": {
   "display_name": "base",
   "language": "python",
   "name": "python3"
  },
  "language_info": {
   "codemirror_mode": {
    "name": "ipython",
    "version": 3
   },
   "file_extension": ".py",
   "mimetype": "text/x-python",
   "name": "python",
   "nbconvert_exporter": "python",
   "pygments_lexer": "ipython3",
   "version": "3.12.3"
  }
 },
 "nbformat": 4,
 "nbformat_minor": 2
}
