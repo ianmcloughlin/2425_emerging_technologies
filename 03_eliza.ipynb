{
 "cells": [
  {
   "cell_type": "markdown",
   "metadata": {},
   "source": [
    "# ELIZA\n",
    "\n",
    "[Weizenbaum’s nightmares: how the inventor of the first chatbot turned against AI; The Guardian; 2023-07-25](https://www.theguardian.com/technology/2023/jul/25/joseph-weizenbaum-inventor-eliza-chatbot-turned-against-artificial-intelligence-ai)"
   ]
  },
  {
   "cell_type": "code",
   "execution_count": 1,
   "metadata": {},
   "outputs": [],
   "source": [
    "# Random choices.\n",
    "import random\n",
    "\n",
    "# Regular expressions.\n",
    "import re"
   ]
  },
  {
   "cell_type": "code",
   "execution_count": 2,
   "metadata": {},
   "outputs": [],
   "source": [
    "# A dictionary of responses based on various patterns.\n",
    "responses = {\n",
    "    r'hello|hi|hey': [\n",
    "        \"Hello! How are you feeling today?\",\n",
    "        \"Hi there! What’s on your mind?\",\n",
    "        \"Hey! How can I help you?\"\n",
    "    ],\n",
    "    r'you remind me of (.*)': [\n",
    "        \"Why do you think I remind you of {0}?\",\n",
    "        \"What makes you think of {0} when talking to me?\",\n",
    "        \"Is it a good feeling to be reminded of {0}?\"\n",
    "    ],\n",
    "    r'(.*) mother|father|family|parent(.*)': [\n",
    "        \"Tell me more about your family.\",\n",
    "        \"How does that make you feel about your family?\",\n",
    "        \"What role does your family play in your thoughts?\"\n",
    "    ],\n",
    "    r'(.*) I need (.*)': [\n",
    "        \"Why do you need {1}?\",\n",
    "        \"Would getting {1} really help you?\",\n",
    "        \"What if you didn’t need {1}?\"\n",
    "    ],\n",
    "    r'(.*) I am (.*)': [\n",
    "        \"Why do you think you are {1}?\",\n",
    "        \"How long have you felt that way?\",\n",
    "        \"What made you feel like {1}?\"\n",
    "    ],\n",
    "    r'(.*) I feel (.*)': [\n",
    "        \"Why do you feel {1}?\",\n",
    "        \"Does feeling {1} happen often?\",\n",
    "        \"How does that feeling affect you?\"\n",
    "    ],\n",
    "    r'(.*) (sorry|apologize)(.*)': [\n",
    "        \"No need to apologize.\",\n",
    "        \"Apologies aren't necessary. Why do you feel that way?\",\n",
    "        \"It’s okay to feel that way.\"\n",
    "    ],\n",
    "    r'bye|goodbye|exit': [\n",
    "        \"Goodbye! Take care.\",\n",
    "        \"Thank you for sharing. Goodbye!\",\n",
    "        \"Bye! I’m here if you need to talk again.\"\n",
    "    ],\n",
    "    r'(.*)': [\n",
    "        \"Can you tell me more?\",\n",
    "        \"Why do you say that?\",\n",
    "        \"How does that make you feel?\",\n",
    "        \"What do you mean by that?\",\n",
    "        \"Interesting... go on.\"\n",
    "    ],\n",
    "}"
   ]
  },
  {
   "cell_type": "code",
   "execution_count": 3,
   "metadata": {},
   "outputs": [],
   "source": [
    "reflections = {\n",
    "    \"I\": \"you\",\n",
    "    \"me\": \"you\",\n",
    "    \"my\": \"your\",\n",
    "    \"am\": \"are\",\n",
    "    \"you\": \"I\",\n",
    "    \"your\": \"my\",\n",
    "    \"yours\": \"mine\",\n",
    "    \"are\": \"am\",\n",
    "}"
   ]
  },
  {
   "cell_type": "code",
   "execution_count": 4,
   "metadata": {},
   "outputs": [
    {
     "data": {
      "text/plain": [
       "['my', 'friend', 'likes', 'me']"
      ]
     },
     "execution_count": 4,
     "metadata": {},
     "output_type": "execute_result"
    }
   ],
   "source": [
    "# Example of split.\n",
    "s = \"my friend likes me\"\n",
    "s.split()\n"
   ]
  },
  {
   "cell_type": "code",
   "execution_count": 5,
   "metadata": {},
   "outputs": [
    {
     "data": {
      "text/plain": [
       "['your', 'friend', 'likes', 'you']"
      ]
     },
     "execution_count": 5,
     "metadata": {},
     "output_type": "execute_result"
    }
   ],
   "source": [
    "# Example of reflection.\n",
    "s = \"my friend likes me\"\n",
    "s_reflect = [reflections.get(word, word) for word in s.lower().split()]\n",
    "\n",
    "# Show.\n",
    "s_reflect"
   ]
  },
  {
   "cell_type": "code",
   "execution_count": 6,
   "metadata": {},
   "outputs": [
    {
     "data": {
      "text/plain": [
       "'your friend likes you'"
      ]
     },
     "execution_count": 6,
     "metadata": {},
     "output_type": "execute_result"
    }
   ],
   "source": [
    "# join.\n",
    "' '.join(s_reflect)"
   ]
  },
  {
   "cell_type": "code",
   "execution_count": 7,
   "metadata": {},
   "outputs": [],
   "source": [
    "# Function to reflect responses.\n",
    "def reflect(text):\n",
    "    words = text.lower().split()\n",
    "    reflected_words = [reflections.get(word, word) for word in words]\n",
    "    return \" \".join(reflected_words)\n"
   ]
  },
  {
   "cell_type": "code",
   "execution_count": 8,
   "metadata": {},
   "outputs": [],
   "source": [
    "# Function to select a suitable response based on the user's input.\n",
    "def respond(user_input):\n",
    "    for pattern, responses_list in responses.items():\n",
    "        match = re.match(pattern, user_input, re.IGNORECASE)\n",
    "        if match:\n",
    "            response = random.choice(responses_list)\n",
    "            # Reflect pronouns if there are captured groups to make the response more natural\n",
    "            reflected_groups = [reflect(group) for group in match.groups()]\n",
    "            return response.format(*reflected_groups)\n",
    "    return \"I'm not sure I understand. Can you elaborate?\""
   ]
  },
  {
   "cell_type": "code",
   "execution_count": 9,
   "metadata": {},
   "outputs": [
    {
     "data": {
      "text/plain": [
       "'How does that make you feel?'"
      ]
     },
     "execution_count": 9,
     "metadata": {},
     "output_type": "execute_result"
    }
   ],
   "source": [
    "respond(\"I am felling funny.\")"
   ]
  },
  {
   "cell_type": "code",
   "execution_count": 11,
   "metadata": {},
   "outputs": [
    {
     "data": {
      "text/plain": [
       "'Why do you need to talk.?'"
      ]
     },
     "execution_count": 11,
     "metadata": {},
     "output_type": "execute_result"
    }
   ],
   "source": [
    "respond(\" I need to talk.\")"
   ]
  },
  {
   "cell_type": "markdown",
   "metadata": {},
   "source": [
    "## Regular Expressions"
   ]
  },
  {
   "cell_type": "code",
   "execution_count": 19,
   "metadata": {},
   "outputs": [],
   "source": [
    "s = r'\\tHello\\t,\\tworld\\t\\n\\tHello\\t,\\tworld\\t\\n'"
   ]
  },
  {
   "cell_type": "code",
   "execution_count": 20,
   "metadata": {},
   "outputs": [
    {
     "name": "stdout",
     "output_type": "stream",
     "text": [
      "\\tHello\\t,\\tworld\\t\\n\\tHello\\t,\\tworld\\t\\n\n"
     ]
    }
   ],
   "source": [
    "print(s)"
   ]
  },
  {
   "cell_type": "markdown",
   "metadata": {},
   "source": [
    "## End"
   ]
  }
 ],
 "metadata": {
  "kernelspec": {
   "display_name": "base",
   "language": "python",
   "name": "python3"
  },
  "language_info": {
   "codemirror_mode": {
    "name": "ipython",
    "version": 3
   },
   "file_extension": ".py",
   "mimetype": "text/x-python",
   "name": "python",
   "nbconvert_exporter": "python",
   "pygments_lexer": "ipython3",
   "version": "3.12.5"
  }
 },
 "nbformat": 4,
 "nbformat_minor": 2
}
